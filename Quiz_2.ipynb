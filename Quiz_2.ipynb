{
 "cells": [
  {
   "cell_type": "markdown",
   "id": "2de8ec49",
   "metadata": {},
   "source": [
    "# Regression in Machine Learning\n",
    "### Chrispine Tot\n",
    "#### Student ID: 1637159abc01f000"
   ]
  },
  {
   "cell_type": "markdown",
   "id": "4193efcf",
   "metadata": {},
   "source": [
    "### Question 1:\n",
    "The percent of the total variation of the dependent variable Y explained by the set of independent variables X is measured by:\n",
    "\n",
    "**Answer:** Coefficient of Determination"
   ]
  },
  {
   "cell_type": "markdown",
   "id": "0e638d3b",
   "metadata": {},
   "source": [
    "### Question 2:\n",
    "How do you define a Residual?\n",
    "\n",
    "**Answer:** y-y'"
   ]
  },
  {
   "cell_type": "markdown",
   "id": "5921b18b",
   "metadata": {},
   "source": [
    "### Question 3:\n",
    "The straight line graph of the equation Y = a + BX, the slope is horizontal if:\n",
    "\n",
    "**Answer:** b = 0"
   ]
  },
  {
   "cell_type": "markdown",
   "id": "7b6625df",
   "metadata": {},
   "source": [
    "### Question 4:\n",
    "Which of the one is true about Heteroskedasticity?\n",
    "\n",
    "**Answer:** Linear Regression with varying error terms"
   ]
  },
  {
   "cell_type": "markdown",
   "id": "b0537f8c",
   "metadata": {},
   "source": [
    "### Question 5:\n",
    "Generally, which of the following method(s) is used for predicting continuous dependent variables?\n",
    "\n",
    "1. Linear Regression\n",
    "\n",
    "2. Logistic Regression\n",
    "\n",
    "**Answer:** 1 only"
   ]
  },
  {
   "cell_type": "markdown",
   "id": "9190e3a6",
   "metadata": {},
   "source": [
    "### Question 6:\n",
    "From the following options below, which of these is/are true about “Ridge” or “Lasso” regression methods in case of feature selection?\n",
    "\n",
    "**Answer:** Lasso regression uses subset selection of features"
   ]
  },
  {
   "cell_type": "markdown",
   "id": "40c2b804",
   "metadata": {},
   "source": [
    "### Question 7:\n",
    "Which of the following sentences is/are true about outliers in Linear Regression:\n",
    "\n",
    "**Answer:** Linear regression is sensitive to outliers"
   ]
  },
  {
   "cell_type": "markdown",
   "id": "d628340c",
   "metadata": {},
   "source": [
    "### Question 8:\n",
    "Which of the following metrics can be used for evaluating regression models?\n",
    "1. R Squared\n",
    "\n",
    "2. Adjusted R Squared\n",
    "\n",
    "3. F Statistics\n",
    "\n",
    "4. RMSE / MSE / MAE\n",
    "\n",
    "**Answer:** 1, 2, 3 and 4"
   ]
  },
  {
   "cell_type": "markdown",
   "id": "4ccedf62",
   "metadata": {},
   "source": [
    "### Question 9:\n",
    "A best fit line relating X and Y has a R-Squared value of 0.75. How do I interpret this information?\n",
    "\n",
    "**Answer:** 75% of the variance in Y is explained by X"
   ]
  },
  {
   "cell_type": "markdown",
   "id": "1658815b",
   "metadata": {},
   "source": [
    "### Question 10:\n",
    "Which of the following measures is optimal for comparing the goodness of the fit of competing regression models involving the same dependent variable?\n",
    "\n",
    "**Answer:** Standard deviation of the residuals"
   ]
  },
  {
   "cell_type": "markdown",
   "id": "a7e04ad9",
   "metadata": {},
   "source": [
    "### Question 11:\n",
    "The Lasso can be interpreted as least-squares linear regression where:\n",
    "\n",
    "**Answer:** Weights are regularized with the L1 norm"
   ]
  },
  {
   "cell_type": "markdown",
   "id": "b8b9c6b4",
   "metadata": {},
   "source": [
    "### Question 12:\n",
    "From the dataset, fit a linear model on the relationship between the temperature in the living room in Celsius (x = T2) and the temperature outside the building (y = T6). What is the R^2 value in two d.p.??\n",
    "\n",
    "**Answer:** 0.64"
   ]
  },
  {
   "cell_type": "code",
   "execution_count": 1,
   "id": "a716c3dd",
   "metadata": {},
   "outputs": [],
   "source": [
    "import numpy as np\n",
    "import pandas as pd\n",
    "from sklearn.linear_model import LinearRegression\n",
    "from sklearn.model_selection import train_test_split\n",
    "from sklearn.metrics import (r2_score, mean_absolute_error, mean_squared_error)\n",
    "from sklearn.preprocessing import MinMaxScaler\n",
    "from sklearn.linear_model import (Ridge, Lasso)"
   ]
  },
  {
   "cell_type": "code",
   "execution_count": 2,
   "id": "7e96045a",
   "metadata": {},
   "outputs": [
    {
     "data": {
      "text/html": [
       "<div>\n",
       "<style scoped>\n",
       "    .dataframe tbody tr th:only-of-type {\n",
       "        vertical-align: middle;\n",
       "    }\n",
       "\n",
       "    .dataframe tbody tr th {\n",
       "        vertical-align: top;\n",
       "    }\n",
       "\n",
       "    .dataframe thead th {\n",
       "        text-align: right;\n",
       "    }\n",
       "</style>\n",
       "<table border=\"1\" class=\"dataframe\">\n",
       "  <thead>\n",
       "    <tr style=\"text-align: right;\">\n",
       "      <th></th>\n",
       "      <th>0</th>\n",
       "      <th>1</th>\n",
       "      <th>2</th>\n",
       "      <th>3</th>\n",
       "      <th>4</th>\n",
       "    </tr>\n",
       "  </thead>\n",
       "  <tbody>\n",
       "    <tr>\n",
       "      <th>date</th>\n",
       "      <td>2016-01-11 17:00:00</td>\n",
       "      <td>2016-01-11 17:10:00</td>\n",
       "      <td>2016-01-11 17:20:00</td>\n",
       "      <td>2016-01-11 17:30:00</td>\n",
       "      <td>2016-01-11 17:40:00</td>\n",
       "    </tr>\n",
       "    <tr>\n",
       "      <th>Appliances</th>\n",
       "      <td>60</td>\n",
       "      <td>60</td>\n",
       "      <td>50</td>\n",
       "      <td>50</td>\n",
       "      <td>60</td>\n",
       "    </tr>\n",
       "    <tr>\n",
       "      <th>lights</th>\n",
       "      <td>30</td>\n",
       "      <td>30</td>\n",
       "      <td>30</td>\n",
       "      <td>40</td>\n",
       "      <td>40</td>\n",
       "    </tr>\n",
       "    <tr>\n",
       "      <th>T1</th>\n",
       "      <td>19.89</td>\n",
       "      <td>19.89</td>\n",
       "      <td>19.89</td>\n",
       "      <td>19.89</td>\n",
       "      <td>19.89</td>\n",
       "    </tr>\n",
       "    <tr>\n",
       "      <th>RH_1</th>\n",
       "      <td>47.596667</td>\n",
       "      <td>46.693333</td>\n",
       "      <td>46.3</td>\n",
       "      <td>46.066667</td>\n",
       "      <td>46.333333</td>\n",
       "    </tr>\n",
       "    <tr>\n",
       "      <th>T2</th>\n",
       "      <td>19.2</td>\n",
       "      <td>19.2</td>\n",
       "      <td>19.2</td>\n",
       "      <td>19.2</td>\n",
       "      <td>19.2</td>\n",
       "    </tr>\n",
       "    <tr>\n",
       "      <th>RH_2</th>\n",
       "      <td>44.79</td>\n",
       "      <td>44.7225</td>\n",
       "      <td>44.626667</td>\n",
       "      <td>44.59</td>\n",
       "      <td>44.53</td>\n",
       "    </tr>\n",
       "    <tr>\n",
       "      <th>T3</th>\n",
       "      <td>19.79</td>\n",
       "      <td>19.79</td>\n",
       "      <td>19.79</td>\n",
       "      <td>19.79</td>\n",
       "      <td>19.79</td>\n",
       "    </tr>\n",
       "    <tr>\n",
       "      <th>RH_3</th>\n",
       "      <td>44.73</td>\n",
       "      <td>44.79</td>\n",
       "      <td>44.933333</td>\n",
       "      <td>45.0</td>\n",
       "      <td>45.0</td>\n",
       "    </tr>\n",
       "    <tr>\n",
       "      <th>T4</th>\n",
       "      <td>19.0</td>\n",
       "      <td>19.0</td>\n",
       "      <td>18.926667</td>\n",
       "      <td>18.89</td>\n",
       "      <td>18.89</td>\n",
       "    </tr>\n",
       "    <tr>\n",
       "      <th>RH_4</th>\n",
       "      <td>45.566667</td>\n",
       "      <td>45.9925</td>\n",
       "      <td>45.89</td>\n",
       "      <td>45.723333</td>\n",
       "      <td>45.53</td>\n",
       "    </tr>\n",
       "    <tr>\n",
       "      <th>T5</th>\n",
       "      <td>17.166667</td>\n",
       "      <td>17.166667</td>\n",
       "      <td>17.166667</td>\n",
       "      <td>17.166667</td>\n",
       "      <td>17.2</td>\n",
       "    </tr>\n",
       "    <tr>\n",
       "      <th>RH_5</th>\n",
       "      <td>55.2</td>\n",
       "      <td>55.2</td>\n",
       "      <td>55.09</td>\n",
       "      <td>55.09</td>\n",
       "      <td>55.09</td>\n",
       "    </tr>\n",
       "    <tr>\n",
       "      <th>T6</th>\n",
       "      <td>7.026667</td>\n",
       "      <td>6.833333</td>\n",
       "      <td>6.56</td>\n",
       "      <td>6.433333</td>\n",
       "      <td>6.366667</td>\n",
       "    </tr>\n",
       "    <tr>\n",
       "      <th>RH_6</th>\n",
       "      <td>84.256667</td>\n",
       "      <td>84.063333</td>\n",
       "      <td>83.156667</td>\n",
       "      <td>83.423333</td>\n",
       "      <td>84.893333</td>\n",
       "    </tr>\n",
       "    <tr>\n",
       "      <th>T7</th>\n",
       "      <td>17.2</td>\n",
       "      <td>17.2</td>\n",
       "      <td>17.2</td>\n",
       "      <td>17.133333</td>\n",
       "      <td>17.2</td>\n",
       "    </tr>\n",
       "    <tr>\n",
       "      <th>RH_7</th>\n",
       "      <td>41.626667</td>\n",
       "      <td>41.56</td>\n",
       "      <td>41.433333</td>\n",
       "      <td>41.29</td>\n",
       "      <td>41.23</td>\n",
       "    </tr>\n",
       "    <tr>\n",
       "      <th>T8</th>\n",
       "      <td>18.2</td>\n",
       "      <td>18.2</td>\n",
       "      <td>18.2</td>\n",
       "      <td>18.1</td>\n",
       "      <td>18.1</td>\n",
       "    </tr>\n",
       "    <tr>\n",
       "      <th>RH_8</th>\n",
       "      <td>48.9</td>\n",
       "      <td>48.863333</td>\n",
       "      <td>48.73</td>\n",
       "      <td>48.59</td>\n",
       "      <td>48.59</td>\n",
       "    </tr>\n",
       "    <tr>\n",
       "      <th>T9</th>\n",
       "      <td>17.033333</td>\n",
       "      <td>17.066667</td>\n",
       "      <td>17.0</td>\n",
       "      <td>17.0</td>\n",
       "      <td>17.0</td>\n",
       "    </tr>\n",
       "    <tr>\n",
       "      <th>RH_9</th>\n",
       "      <td>45.53</td>\n",
       "      <td>45.56</td>\n",
       "      <td>45.5</td>\n",
       "      <td>45.4</td>\n",
       "      <td>45.4</td>\n",
       "    </tr>\n",
       "    <tr>\n",
       "      <th>T_out</th>\n",
       "      <td>6.6</td>\n",
       "      <td>6.483333</td>\n",
       "      <td>6.366667</td>\n",
       "      <td>6.25</td>\n",
       "      <td>6.133333</td>\n",
       "    </tr>\n",
       "    <tr>\n",
       "      <th>Press_mm_hg</th>\n",
       "      <td>733.5</td>\n",
       "      <td>733.6</td>\n",
       "      <td>733.7</td>\n",
       "      <td>733.8</td>\n",
       "      <td>733.9</td>\n",
       "    </tr>\n",
       "    <tr>\n",
       "      <th>RH_out</th>\n",
       "      <td>92.0</td>\n",
       "      <td>92.0</td>\n",
       "      <td>92.0</td>\n",
       "      <td>92.0</td>\n",
       "      <td>92.0</td>\n",
       "    </tr>\n",
       "    <tr>\n",
       "      <th>Windspeed</th>\n",
       "      <td>7.0</td>\n",
       "      <td>6.666667</td>\n",
       "      <td>6.333333</td>\n",
       "      <td>6.0</td>\n",
       "      <td>5.666667</td>\n",
       "    </tr>\n",
       "    <tr>\n",
       "      <th>Visibility</th>\n",
       "      <td>63.0</td>\n",
       "      <td>59.166667</td>\n",
       "      <td>55.333333</td>\n",
       "      <td>51.5</td>\n",
       "      <td>47.666667</td>\n",
       "    </tr>\n",
       "    <tr>\n",
       "      <th>Tdewpoint</th>\n",
       "      <td>5.3</td>\n",
       "      <td>5.2</td>\n",
       "      <td>5.1</td>\n",
       "      <td>5.0</td>\n",
       "      <td>4.9</td>\n",
       "    </tr>\n",
       "    <tr>\n",
       "      <th>rv1</th>\n",
       "      <td>13.275433</td>\n",
       "      <td>18.606195</td>\n",
       "      <td>28.642668</td>\n",
       "      <td>45.410389</td>\n",
       "      <td>10.084097</td>\n",
       "    </tr>\n",
       "    <tr>\n",
       "      <th>rv2</th>\n",
       "      <td>13.275433</td>\n",
       "      <td>18.606195</td>\n",
       "      <td>28.642668</td>\n",
       "      <td>45.410389</td>\n",
       "      <td>10.084097</td>\n",
       "    </tr>\n",
       "  </tbody>\n",
       "</table>\n",
       "</div>"
      ],
      "text/plain": [
       "                               0                    1                    2  \\\n",
       "date         2016-01-11 17:00:00  2016-01-11 17:10:00  2016-01-11 17:20:00   \n",
       "Appliances                    60                   60                   50   \n",
       "lights                        30                   30                   30   \n",
       "T1                         19.89                19.89                19.89   \n",
       "RH_1                   47.596667            46.693333                 46.3   \n",
       "T2                          19.2                 19.2                 19.2   \n",
       "RH_2                       44.79              44.7225            44.626667   \n",
       "T3                         19.79                19.79                19.79   \n",
       "RH_3                       44.73                44.79            44.933333   \n",
       "T4                          19.0                 19.0            18.926667   \n",
       "RH_4                   45.566667              45.9925                45.89   \n",
       "T5                     17.166667            17.166667            17.166667   \n",
       "RH_5                        55.2                 55.2                55.09   \n",
       "T6                      7.026667             6.833333                 6.56   \n",
       "RH_6                   84.256667            84.063333            83.156667   \n",
       "T7                          17.2                 17.2                 17.2   \n",
       "RH_7                   41.626667                41.56            41.433333   \n",
       "T8                          18.2                 18.2                 18.2   \n",
       "RH_8                        48.9            48.863333                48.73   \n",
       "T9                     17.033333            17.066667                 17.0   \n",
       "RH_9                       45.53                45.56                 45.5   \n",
       "T_out                        6.6             6.483333             6.366667   \n",
       "Press_mm_hg                733.5                733.6                733.7   \n",
       "RH_out                      92.0                 92.0                 92.0   \n",
       "Windspeed                    7.0             6.666667             6.333333   \n",
       "Visibility                  63.0            59.166667            55.333333   \n",
       "Tdewpoint                    5.3                  5.2                  5.1   \n",
       "rv1                    13.275433            18.606195            28.642668   \n",
       "rv2                    13.275433            18.606195            28.642668   \n",
       "\n",
       "                               3                    4  \n",
       "date         2016-01-11 17:30:00  2016-01-11 17:40:00  \n",
       "Appliances                    50                   60  \n",
       "lights                        40                   40  \n",
       "T1                         19.89                19.89  \n",
       "RH_1                   46.066667            46.333333  \n",
       "T2                          19.2                 19.2  \n",
       "RH_2                       44.59                44.53  \n",
       "T3                         19.79                19.79  \n",
       "RH_3                        45.0                 45.0  \n",
       "T4                         18.89                18.89  \n",
       "RH_4                   45.723333                45.53  \n",
       "T5                     17.166667                 17.2  \n",
       "RH_5                       55.09                55.09  \n",
       "T6                      6.433333             6.366667  \n",
       "RH_6                   83.423333            84.893333  \n",
       "T7                     17.133333                 17.2  \n",
       "RH_7                       41.29                41.23  \n",
       "T8                          18.1                 18.1  \n",
       "RH_8                       48.59                48.59  \n",
       "T9                          17.0                 17.0  \n",
       "RH_9                        45.4                 45.4  \n",
       "T_out                       6.25             6.133333  \n",
       "Press_mm_hg                733.8                733.9  \n",
       "RH_out                      92.0                 92.0  \n",
       "Windspeed                    6.0             5.666667  \n",
       "Visibility                  51.5            47.666667  \n",
       "Tdewpoint                    5.0                  4.9  \n",
       "rv1                    45.410389            10.084097  \n",
       "rv2                    45.410389            10.084097  "
      ]
     },
     "execution_count": 2,
     "metadata": {},
     "output_type": "execute_result"
    }
   ],
   "source": [
    "data = pd.read_csv(\"energy.csv\", parse_dates=[\"date\"])\n",
    "data.head().T"
   ]
  },
  {
   "cell_type": "markdown",
   "id": "58d8756b",
   "metadata": {},
   "source": [
    "- Checking for missing values in our dataframe"
   ]
  },
  {
   "cell_type": "code",
   "execution_count": 3,
   "id": "3f4d022c",
   "metadata": {},
   "outputs": [
    {
     "data": {
      "text/plain": [
       "date           False\n",
       "Appliances     False\n",
       "lights         False\n",
       "T1             False\n",
       "RH_1           False\n",
       "T2             False\n",
       "RH_2           False\n",
       "T3             False\n",
       "RH_3           False\n",
       "T4             False\n",
       "RH_4           False\n",
       "T5             False\n",
       "RH_5           False\n",
       "T6             False\n",
       "RH_6           False\n",
       "T7             False\n",
       "RH_7           False\n",
       "T8             False\n",
       "RH_8           False\n",
       "T9             False\n",
       "RH_9           False\n",
       "T_out          False\n",
       "Press_mm_hg    False\n",
       "RH_out         False\n",
       "Windspeed      False\n",
       "Visibility     False\n",
       "Tdewpoint      False\n",
       "rv1            False\n",
       "rv2            False\n",
       "dtype: bool"
      ]
     },
     "execution_count": 3,
     "metadata": {},
     "output_type": "execute_result"
    }
   ],
   "source": [
    "data.isna().any()"
   ]
  },
  {
   "cell_type": "markdown",
   "id": "aa85db77",
   "metadata": {},
   "source": [
    "- Splitting the data into training and testing data using a ***70-30*** train-test split"
   ]
  },
  {
   "cell_type": "code",
   "execution_count": 4,
   "id": "02fb4708",
   "metadata": {},
   "outputs": [],
   "source": [
    "x= data.drop(\"T6\", axis=1)\n",
    "y= data[\"T6\"]\n",
    "x_train, x_test, y_train, y_test = train_test_split(x,y, test_size=0.3, random_state=42)"
   ]
  },
  {
   "cell_type": "code",
   "execution_count": 5,
   "id": "1b8b5073",
   "metadata": {},
   "outputs": [
    {
     "data": {
      "text/plain": [
       "((13814, 28), (13814,), (5921, 28), (5921,))"
      ]
     },
     "execution_count": 5,
     "metadata": {},
     "output_type": "execute_result"
    }
   ],
   "source": [
    "x_train.shape, y_train.shape, x_test.shape, y_test.shape"
   ]
  },
  {
   "cell_type": "markdown",
   "id": "e877142b",
   "metadata": {},
   "source": [
    "- Instantiating our linear regression model\n",
    "- Using the linear regression model to predict the target variable ***T6*** using the independent variable ***T2***"
   ]
  },
  {
   "cell_type": "code",
   "execution_count": 6,
   "id": "f375e02c",
   "metadata": {},
   "outputs": [
    {
     "name": "stdout",
     "output_type": "stream",
     "text": [
      "The r2_score is 0.64\n"
     ]
    }
   ],
   "source": [
    "model = LinearRegression()\n",
    "model.fit(x_train[[\"T2\"]], y_train)\n",
    "pred = model.predict(x_test[[\"T2\"]])\n",
    "val = round(r2_score(y_test, pred), 2)\n",
    "print(f\"The r2_score is {val}\")"
   ]
  },
  {
   "cell_type": "markdown",
   "id": "b3fe159b",
   "metadata": {},
   "source": [
    "### Multiple Linear Regression\n",
    "###### Normalize the dataset using the MinMaxScaler after removing the following columns: [“date”, “lights”]. The target variable is “Appliances”. Use a 70-30 train-test set split with a random state of 42 (for reproducibility). Run a multiple linear regression using the training set and evaluate your model on the test set. Answer the following questions:***"
   ]
  },
  {
   "cell_type": "markdown",
   "id": "b0429913",
   "metadata": {},
   "source": [
    "- Creating a deep copy of our dataframe"
   ]
  },
  {
   "cell_type": "code",
   "execution_count": 7,
   "id": "49b087d4",
   "metadata": {},
   "outputs": [],
   "source": [
    "d_copy = data.copy()"
   ]
  },
  {
   "cell_type": "code",
   "execution_count": 8,
   "id": "4f70fd80",
   "metadata": {},
   "outputs": [],
   "source": [
    "# Dropping the columns \"date\" and \"lights\"\n",
    "d_copy = d_copy.drop([\"date\",\"lights\"], axis=1)\n",
    "\n",
    "# Instantiating min-max scaler\n",
    "scaler = MinMaxScaler()\n",
    "\n",
    "# Creating a pandas dataframe from the normalized data\n",
    "# Original names of the columns restored the kwarg \"columns= d_copy.columns\" \n",
    "data_norm = pd.DataFrame(scaler.fit_transform(d_copy), columns= d_copy.columns)\n",
    "\n",
    "features= data_norm.drop(\"Appliances\", axis=1) # independent variables\n",
    "target= data_norm[\"Appliances\"] # target variable\n",
    "x_train, x_test, y_train, y_test = train_test_split(features,target, test_size=0.3,random_state=42)"
   ]
  },
  {
   "cell_type": "markdown",
   "id": "caf02d42",
   "metadata": {},
   "source": [
    "### Question 13:\n",
    "What is the Mean Absolute Error (in two decimal places)?\n",
    "\n",
    "**Answer:** 0.05"
   ]
  },
  {
   "cell_type": "code",
   "execution_count": 9,
   "id": "2ecc0a45",
   "metadata": {},
   "outputs": [
    {
     "name": "stdout",
     "output_type": "stream",
     "text": [
      "The Mean Absolute Error is 0.05\n"
     ]
    }
   ],
   "source": [
    "model_2 = LinearRegression()\n",
    "model_2.fit(x_train, y_train)\n",
    "preds= model_2.predict(x_test)\n",
    "mae = round(mean_absolute_error(y_test, preds),2)\n",
    "print(f\"The Mean Absolute Error is {mae}\")"
   ]
  },
  {
   "cell_type": "markdown",
   "id": "dc0a73f6",
   "metadata": {},
   "source": [
    "### Question 14:\n",
    "What is the Residual Sum of Squares (in two decimal places)?\n",
    "\n",
    "**Answer:** 45.35"
   ]
  },
  {
   "cell_type": "code",
   "execution_count": 10,
   "id": "2c05a69e",
   "metadata": {},
   "outputs": [
    {
     "name": "stdout",
     "output_type": "stream",
     "text": [
      "The Residual Sum of Squares is 45.35\n"
     ]
    }
   ],
   "source": [
    "rss = round(np.sum(np.square(preds - y_test)), 2)\n",
    "print(f\"The Residual Sum of Squares is {rss}\")"
   ]
  },
  {
   "cell_type": "markdown",
   "id": "906650d8",
   "metadata": {},
   "source": [
    "### Question 15:\n",
    "What is the Root Mean Squared Error (in three decimal places)?\n",
    "\n",
    "**Answer:** 0.088"
   ]
  },
  {
   "cell_type": "code",
   "execution_count": 11,
   "id": "f09f2500",
   "metadata": {},
   "outputs": [
    {
     "name": "stdout",
     "output_type": "stream",
     "text": [
      "The Root Mean Squared Error is 0.088\n"
     ]
    }
   ],
   "source": [
    "rmse = round(mean_squared_error(y_test, preds, squared=False), 3)\n",
    "print(f\"The Root Mean Squared Error is {rmse}\")"
   ]
  },
  {
   "cell_type": "markdown",
   "id": "6559763c",
   "metadata": {},
   "source": [
    "### Question 16:\n",
    "What is the Coefficient of Determination (in two decimal places)?\n",
    "\n",
    "**Answer:** 0.15"
   ]
  },
  {
   "cell_type": "code",
   "execution_count": 12,
   "id": "9d47ade1",
   "metadata": {},
   "outputs": [
    {
     "name": "stdout",
     "output_type": "stream",
     "text": [
      "The Coefficient of Determination is 0.15\n"
     ]
    }
   ],
   "source": [
    "cod = round(r2_score(y_test, preds), 2)\n",
    "print(f\"The Coefficient of Determination is {cod}\")"
   ]
  },
  {
   "cell_type": "markdown",
   "id": "0e1a87c9",
   "metadata": {},
   "source": [
    "### Question 17:\n",
    "Obtain the feature weights from your linear model above. Which features have the lowest and highest weights respectively?\n",
    "\n",
    "**Lowest Value:** RH_2\n",
    "\n",
    "**Highest Value:** RH_1"
   ]
  },
  {
   "cell_type": "code",
   "execution_count": 13,
   "id": "423cd2dd",
   "metadata": {},
   "outputs": [
    {
     "data": {
      "text/html": [
       "<div>\n",
       "<style scoped>\n",
       "    .dataframe tbody tr th:only-of-type {\n",
       "        vertical-align: middle;\n",
       "    }\n",
       "\n",
       "    .dataframe tbody tr th {\n",
       "        vertical-align: top;\n",
       "    }\n",
       "\n",
       "    .dataframe thead th {\n",
       "        text-align: right;\n",
       "    }\n",
       "</style>\n",
       "<table border=\"1\" class=\"dataframe\">\n",
       "  <thead>\n",
       "    <tr style=\"text-align: right;\">\n",
       "      <th></th>\n",
       "      <th>Feature</th>\n",
       "      <th>Weight</th>\n",
       "    </tr>\n",
       "  </thead>\n",
       "  <tbody>\n",
       "    <tr>\n",
       "      <th>0</th>\n",
       "      <td>RH_2</td>\n",
       "      <td>-0.456698</td>\n",
       "    </tr>\n",
       "    <tr>\n",
       "      <th>1</th>\n",
       "      <td>T_out</td>\n",
       "      <td>-0.321860</td>\n",
       "    </tr>\n",
       "    <tr>\n",
       "      <th>2</th>\n",
       "      <td>T2</td>\n",
       "      <td>-0.236178</td>\n",
       "    </tr>\n",
       "    <tr>\n",
       "      <th>3</th>\n",
       "      <td>T9</td>\n",
       "      <td>-0.189941</td>\n",
       "    </tr>\n",
       "    <tr>\n",
       "      <th>4</th>\n",
       "      <td>RH_8</td>\n",
       "      <td>-0.157595</td>\n",
       "    </tr>\n",
       "    <tr>\n",
       "      <th>5</th>\n",
       "      <td>RH_out</td>\n",
       "      <td>-0.077671</td>\n",
       "    </tr>\n",
       "    <tr>\n",
       "      <th>6</th>\n",
       "      <td>RH_7</td>\n",
       "      <td>-0.044614</td>\n",
       "    </tr>\n",
       "    <tr>\n",
       "      <th>7</th>\n",
       "      <td>RH_9</td>\n",
       "      <td>-0.039800</td>\n",
       "    </tr>\n",
       "    <tr>\n",
       "      <th>8</th>\n",
       "      <td>T5</td>\n",
       "      <td>-0.015657</td>\n",
       "    </tr>\n",
       "    <tr>\n",
       "      <th>9</th>\n",
       "      <td>T1</td>\n",
       "      <td>-0.003281</td>\n",
       "    </tr>\n",
       "    <tr>\n",
       "      <th>10</th>\n",
       "      <td>rv1</td>\n",
       "      <td>0.000770</td>\n",
       "    </tr>\n",
       "    <tr>\n",
       "      <th>11</th>\n",
       "      <td>rv2</td>\n",
       "      <td>0.000770</td>\n",
       "    </tr>\n",
       "    <tr>\n",
       "      <th>12</th>\n",
       "      <td>Press_mm_hg</td>\n",
       "      <td>0.006839</td>\n",
       "    </tr>\n",
       "    <tr>\n",
       "      <th>13</th>\n",
       "      <td>T7</td>\n",
       "      <td>0.010319</td>\n",
       "    </tr>\n",
       "    <tr>\n",
       "      <th>14</th>\n",
       "      <td>Visibility</td>\n",
       "      <td>0.012307</td>\n",
       "    </tr>\n",
       "    <tr>\n",
       "      <th>15</th>\n",
       "      <td>RH_5</td>\n",
       "      <td>0.016006</td>\n",
       "    </tr>\n",
       "    <tr>\n",
       "      <th>16</th>\n",
       "      <td>RH_4</td>\n",
       "      <td>0.026386</td>\n",
       "    </tr>\n",
       "    <tr>\n",
       "      <th>17</th>\n",
       "      <td>T4</td>\n",
       "      <td>0.028981</td>\n",
       "    </tr>\n",
       "    <tr>\n",
       "      <th>18</th>\n",
       "      <td>Windspeed</td>\n",
       "      <td>0.029183</td>\n",
       "    </tr>\n",
       "    <tr>\n",
       "      <th>19</th>\n",
       "      <td>RH_6</td>\n",
       "      <td>0.038049</td>\n",
       "    </tr>\n",
       "    <tr>\n",
       "      <th>20</th>\n",
       "      <td>RH_3</td>\n",
       "      <td>0.096048</td>\n",
       "    </tr>\n",
       "    <tr>\n",
       "      <th>21</th>\n",
       "      <td>T8</td>\n",
       "      <td>0.101995</td>\n",
       "    </tr>\n",
       "    <tr>\n",
       "      <th>22</th>\n",
       "      <td>Tdewpoint</td>\n",
       "      <td>0.117758</td>\n",
       "    </tr>\n",
       "    <tr>\n",
       "      <th>23</th>\n",
       "      <td>T6</td>\n",
       "      <td>0.236425</td>\n",
       "    </tr>\n",
       "    <tr>\n",
       "      <th>24</th>\n",
       "      <td>T3</td>\n",
       "      <td>0.290627</td>\n",
       "    </tr>\n",
       "    <tr>\n",
       "      <th>25</th>\n",
       "      <td>RH_1</td>\n",
       "      <td>0.553547</td>\n",
       "    </tr>\n",
       "  </tbody>\n",
       "</table>\n",
       "</div>"
      ],
      "text/plain": [
       "        Feature    Weight\n",
       "0          RH_2 -0.456698\n",
       "1         T_out -0.321860\n",
       "2            T2 -0.236178\n",
       "3            T9 -0.189941\n",
       "4          RH_8 -0.157595\n",
       "5        RH_out -0.077671\n",
       "6          RH_7 -0.044614\n",
       "7          RH_9 -0.039800\n",
       "8            T5 -0.015657\n",
       "9            T1 -0.003281\n",
       "10          rv1  0.000770\n",
       "11          rv2  0.000770\n",
       "12  Press_mm_hg  0.006839\n",
       "13           T7  0.010319\n",
       "14   Visibility  0.012307\n",
       "15         RH_5  0.016006\n",
       "16         RH_4  0.026386\n",
       "17           T4  0.028981\n",
       "18    Windspeed  0.029183\n",
       "19         RH_6  0.038049\n",
       "20         RH_3  0.096048\n",
       "21           T8  0.101995\n",
       "22    Tdewpoint  0.117758\n",
       "23           T6  0.236425\n",
       "24           T3  0.290627\n",
       "25         RH_1  0.553547"
      ]
     },
     "execution_count": 13,
     "metadata": {},
     "output_type": "execute_result"
    }
   ],
   "source": [
    "def weight (model, feat, col_name):\n",
    "    weights = pd.Series(model.coef_, feat.columns).sort_values()\n",
    "    df = pd.DataFrame(weights).reset_index()\n",
    "    df.columns = [\"Feature\", col_name]\n",
    "    df[col_name].round(2)\n",
    "    return df\n",
    "\n",
    "model_weights = weight(model_2, x_train, \"Weight\")\n",
    "model_weights"
   ]
  },
  {
   "cell_type": "code",
   "execution_count": 14,
   "id": "0ad1c739",
   "metadata": {},
   "outputs": [
    {
     "data": {
      "text/html": [
       "<div>\n",
       "<style scoped>\n",
       "    .dataframe tbody tr th:only-of-type {\n",
       "        vertical-align: middle;\n",
       "    }\n",
       "\n",
       "    .dataframe tbody tr th {\n",
       "        vertical-align: top;\n",
       "    }\n",
       "\n",
       "    .dataframe thead th {\n",
       "        text-align: right;\n",
       "    }\n",
       "</style>\n",
       "<table border=\"1\" class=\"dataframe\">\n",
       "  <thead>\n",
       "    <tr style=\"text-align: right;\">\n",
       "      <th></th>\n",
       "      <th>Feature</th>\n",
       "      <th>Weight</th>\n",
       "    </tr>\n",
       "  </thead>\n",
       "  <tbody>\n",
       "    <tr>\n",
       "      <th>0</th>\n",
       "      <td>RH_2</td>\n",
       "      <td>-0.456698</td>\n",
       "    </tr>\n",
       "    <tr>\n",
       "      <th>25</th>\n",
       "      <td>RH_1</td>\n",
       "      <td>0.553547</td>\n",
       "    </tr>\n",
       "  </tbody>\n",
       "</table>\n",
       "</div>"
      ],
      "text/plain": [
       "   Feature    Weight\n",
       "0     RH_2 -0.456698\n",
       "25    RH_1  0.553547"
      ]
     },
     "execution_count": 14,
     "metadata": {},
     "output_type": "execute_result"
    }
   ],
   "source": [
    "model_weights.iloc[[0,25]]"
   ]
  },
  {
   "cell_type": "markdown",
   "id": "acfd2842",
   "metadata": {},
   "source": [
    "### Question 18:\n",
    "Train a ridge regression model with an alpha value of 0.4. Is there any change to the root mean squared error (RMSE) when evaluated on the test set?\n",
    "\n",
    "**Answer:** No"
   ]
  },
  {
   "cell_type": "code",
   "execution_count": 15,
   "id": "fcfaa262",
   "metadata": {},
   "outputs": [
    {
     "name": "stdout",
     "output_type": "stream",
     "text": [
      "The Ridge Regression Model has a RMSE of 0.088\n",
      "There is no change in the RMSE value\n"
     ]
    }
   ],
   "source": [
    "ridge_reg = Ridge(alpha=0.4)\n",
    "ridge_reg.fit(x_train, y_train)\n",
    "ridge_pred = ridge_reg.predict(x_test)\n",
    "rdg_rmse = round(mean_squared_error(y_test, ridge_pred, squared=False), 3)\n",
    "print(f\"The Ridge Regression Model has a RMSE of {rdg_rmse}\\nThere is no change in the RMSE value\")"
   ]
  },
  {
   "cell_type": "markdown",
   "id": "fed04e0f",
   "metadata": {},
   "source": [
    "### Question 19:\n",
    "Train a lasso regression model with an alpha value of 0.001 and obtain the new feature weights with it. How many of the features have non-zero feature weights?\n",
    "\n",
    "**Answer:** 4"
   ]
  },
  {
   "cell_type": "code",
   "execution_count": 16,
   "id": "0819e0b7",
   "metadata": {},
   "outputs": [
    {
     "data": {
      "text/plain": [
       "Feature         4\n",
       "Lasso_Weight    4\n",
       "dtype: int64"
      ]
     },
     "execution_count": 16,
     "metadata": {},
     "output_type": "execute_result"
    }
   ],
   "source": [
    "lasso_reg = Lasso(alpha=0.001)\n",
    "lasso_reg.fit(x_train, y_train)\n",
    "\n",
    "lasso_weights = weight(lasso_reg, x_train, \"Lasso_Weight\")\n",
    "(lasso_weights[lasso_weights[\"Lasso_Weight\"] != 0]).count()"
   ]
  },
  {
   "cell_type": "markdown",
   "id": "02f31197",
   "metadata": {},
   "source": [
    "### Question 20:\n",
    "What is the new RMSE with the lasso regression? (Answer should be in three (3) decimal places)\n",
    "\n",
    "**Answer:** 0.094"
   ]
  },
  {
   "cell_type": "code",
   "execution_count": 17,
   "id": "a1d5c26e",
   "metadata": {},
   "outputs": [
    {
     "name": "stdout",
     "output_type": "stream",
     "text": [
      "The Lasso Regression RMSE is 0.094\n"
     ]
    }
   ],
   "source": [
    "lasso_pred = lasso_reg.predict(x_test)\n",
    "lass_rmse = round(mean_squared_error(y_test, lasso_pred, squared=False), 3)\n",
    "print(f\"The Lasso Regression RMSE is {lass_rmse}\")"
   ]
  }
 ],
 "metadata": {
  "kernelspec": {
   "display_name": "Python 3 (ipykernel)",
   "language": "python",
   "name": "python3"
  },
  "language_info": {
   "codemirror_mode": {
    "name": "ipython",
    "version": 3
   },
   "file_extension": ".py",
   "mimetype": "text/x-python",
   "name": "python",
   "nbconvert_exporter": "python",
   "pygments_lexer": "ipython3",
   "version": "3.9.12"
  }
 },
 "nbformat": 4,
 "nbformat_minor": 5
}
